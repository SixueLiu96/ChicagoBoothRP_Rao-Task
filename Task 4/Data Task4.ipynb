{
 "cells": [
  {
   "cell_type": "code",
   "execution_count": 8,
   "metadata": {},
   "outputs": [],
   "source": [
    "import pandas as pd\n",
    "import numpy as np \n",
    "from sklearn import model_selection, preprocessing, linear_model, naive_bayes, metrics, svm\n",
    "from sklearn.feature_extraction.text import TfidfVectorizer, CountVectorizer\n",
    "from sklearn import decomposition, ensemble\n",
    "import textblob, string"
   ]
  },
  {
   "cell_type": "code",
   "execution_count": 2,
   "metadata": {},
   "outputs": [],
   "source": [
    "# read the dataset as pandas dataframe \n",
    "\n",
    "abst = pd.read_excel('abstract.xlsx')  "
   ]
  },
  {
   "cell_type": "code",
   "execution_count": 3,
   "metadata": {},
   "outputs": [
    {
     "name": "stdout",
     "output_type": "stream",
     "text": [
      "<class 'pandas.core.frame.DataFrame'>\n",
      "RangeIndex: 4218 entries, 0 to 4217\n",
      "Data columns (total 5 columns):\n",
      "foodname    4218 non-null object\n",
      "fu          2380 non-null object\n",
      "ti          4218 non-null object\n",
      "ab          4218 non-null object\n",
      "rating1     4218 non-null int64\n",
      "dtypes: int64(1), object(4)\n",
      "memory usage: 164.9+ KB\n"
     ]
    }
   ],
   "source": [
    "# check the column types \n",
    "\n",
    "abst.info()"
   ]
  },
  {
   "cell_type": "code",
   "execution_count": 4,
   "metadata": {},
   "outputs": [
    {
     "data": {
      "text/html": [
       "<div>\n",
       "<style scoped>\n",
       "    .dataframe tbody tr th:only-of-type {\n",
       "        vertical-align: middle;\n",
       "    }\n",
       "\n",
       "    .dataframe tbody tr th {\n",
       "        vertical-align: top;\n",
       "    }\n",
       "\n",
       "    .dataframe thead th {\n",
       "        text-align: right;\n",
       "    }\n",
       "</style>\n",
       "<table border=\"1\" class=\"dataframe\">\n",
       "  <thead>\n",
       "    <tr style=\"text-align: right;\">\n",
       "      <th></th>\n",
       "      <th>foodname</th>\n",
       "      <th>fu</th>\n",
       "      <th>ti</th>\n",
       "      <th>ab</th>\n",
       "      <th>rating1</th>\n",
       "    </tr>\n",
       "  </thead>\n",
       "  <tbody>\n",
       "    <tr>\n",
       "      <td>0</td>\n",
       "      <td>TI = (sorghum OR milo OR durra OR jowari OR gr...</td>\n",
       "      <td>NaN</td>\n",
       "      <td>Pretreatment of Sweet Sorghum Bagasse for Etha...</td>\n",
       "      <td>(1) Background: Commercial production of fuel ...</td>\n",
       "      <td>99</td>\n",
       "    </tr>\n",
       "    <tr>\n",
       "      <td>1</td>\n",
       "      <td>TI = (wheat OR Triticum)</td>\n",
       "      <td>NaN</td>\n",
       "      <td>Metabolites of 4-n-nonylphenol in wheat cell s...</td>\n",
       "      <td>4-Nonylphenol, a metabolite of nonionic surfac...</td>\n",
       "      <td>99</td>\n",
       "    </tr>\n",
       "    <tr>\n",
       "      <td>2</td>\n",
       "      <td>TI = (sorghum OR milo OR durra OR jowari OR gr...</td>\n",
       "      <td>NaN</td>\n",
       "      <td>A sorghum xylanase inhibitor-like protein with...</td>\n",
       "      <td>A 25-kDa protein, with an N-terminal amino aci...</td>\n",
       "      <td>1</td>\n",
       "    </tr>\n",
       "    <tr>\n",
       "      <td>3</td>\n",
       "      <td>TI = (rice)</td>\n",
       "      <td>NaN</td>\n",
       "      <td>Molecular identification of yeast species asso...</td>\n",
       "      <td>A B S T R A C T In Manipur state of North-East...</td>\n",
       "      <td>99</td>\n",
       "    </tr>\n",
       "    <tr>\n",
       "      <td>4</td>\n",
       "      <td>TI = (corn OR maize  OR Zea mays)</td>\n",
       "      <td>Monsanto Argentina S.A.</td>\n",
       "      <td>Fungal and mycotoxin contamination in Bt maize...</td>\n",
       "      <td>A Bt maize hybrid and its non-transgenic count...</td>\n",
       "      <td>99</td>\n",
       "    </tr>\n",
       "  </tbody>\n",
       "</table>\n",
       "</div>"
      ],
      "text/plain": [
       "                                            foodname                       fu  \\\n",
       "0  TI = (sorghum OR milo OR durra OR jowari OR gr...                      NaN   \n",
       "1                           TI = (wheat OR Triticum)                      NaN   \n",
       "2  TI = (sorghum OR milo OR durra OR jowari OR gr...                      NaN   \n",
       "3                                        TI = (rice)                      NaN   \n",
       "4                  TI = (corn OR maize  OR Zea mays)  Monsanto Argentina S.A.   \n",
       "\n",
       "                                                  ti  \\\n",
       "0  Pretreatment of Sweet Sorghum Bagasse for Etha...   \n",
       "1  Metabolites of 4-n-nonylphenol in wheat cell s...   \n",
       "2  A sorghum xylanase inhibitor-like protein with...   \n",
       "3  Molecular identification of yeast species asso...   \n",
       "4  Fungal and mycotoxin contamination in Bt maize...   \n",
       "\n",
       "                                                  ab  rating1  \n",
       "0  (1) Background: Commercial production of fuel ...       99  \n",
       "1  4-Nonylphenol, a metabolite of nonionic surfac...       99  \n",
       "2  A 25-kDa protein, with an N-terminal amino aci...        1  \n",
       "3  A B S T R A C T In Manipur state of North-East...       99  \n",
       "4  A Bt maize hybrid and its non-transgenic count...       99  "
      ]
     },
     "execution_count": 4,
     "metadata": {},
     "output_type": "execute_result"
    }
   ],
   "source": [
    "# check the first 5 lines of dataframe \n",
    "\n",
    "abst.head(5)"
   ]
  },
  {
   "cell_type": "code",
   "execution_count": 5,
   "metadata": {},
   "outputs": [],
   "source": [
    "# change the funding source's datatype to string  \n",
    "\n",
    "abst['fu'] = abst.fu.astype(str)"
   ]
  },
  {
   "cell_type": "markdown",
   "metadata": {},
   "source": [
    "1. Write a script to identify whether the funding source is from industry or not (e.g. if pepsi is the funder, it should be coded as industry). Explain your steps briefly in a readme document."
   ]
  },
  {
   "cell_type": "code",
   "execution_count": 6,
   "metadata": {},
   "outputs": [],
   "source": [
    "# add column 'fu_source', 1 indicates the funding source is from industry and 0 is not \n",
    "\n",
    "ind = [row for row in abst['fu'] if 'Inc.' in row]\n",
    "abst_ind = abst[abst['fu'].isin(ind)]\n",
    "abst['fu_source'] = np.where(abst['fu'].isin(ind), 1, 0)"
   ]
  },
  {
   "cell_type": "code",
   "execution_count": 7,
   "metadata": {},
   "outputs": [
    {
     "data": {
      "text/html": [
       "<div>\n",
       "<style scoped>\n",
       "    .dataframe tbody tr th:only-of-type {\n",
       "        vertical-align: middle;\n",
       "    }\n",
       "\n",
       "    .dataframe tbody tr th {\n",
       "        vertical-align: top;\n",
       "    }\n",
       "\n",
       "    .dataframe thead th {\n",
       "        text-align: right;\n",
       "    }\n",
       "</style>\n",
       "<table border=\"1\" class=\"dataframe\">\n",
       "  <thead>\n",
       "    <tr style=\"text-align: right;\">\n",
       "      <th></th>\n",
       "      <th>foodname</th>\n",
       "      <th>fu</th>\n",
       "      <th>ti</th>\n",
       "      <th>ab</th>\n",
       "      <th>rating1</th>\n",
       "      <th>fu_source</th>\n",
       "    </tr>\n",
       "  </thead>\n",
       "  <tbody>\n",
       "    <tr>\n",
       "      <td>0</td>\n",
       "      <td>TI = (sorghum OR milo OR durra OR jowari OR gr...</td>\n",
       "      <td>nan</td>\n",
       "      <td>Pretreatment of Sweet Sorghum Bagasse for Etha...</td>\n",
       "      <td>(1) Background: Commercial production of fuel ...</td>\n",
       "      <td>99</td>\n",
       "      <td>0</td>\n",
       "    </tr>\n",
       "    <tr>\n",
       "      <td>1</td>\n",
       "      <td>TI = (wheat OR Triticum)</td>\n",
       "      <td>nan</td>\n",
       "      <td>Metabolites of 4-n-nonylphenol in wheat cell s...</td>\n",
       "      <td>4-Nonylphenol, a metabolite of nonionic surfac...</td>\n",
       "      <td>99</td>\n",
       "      <td>0</td>\n",
       "    </tr>\n",
       "    <tr>\n",
       "      <td>2</td>\n",
       "      <td>TI = (sorghum OR milo OR durra OR jowari OR gr...</td>\n",
       "      <td>nan</td>\n",
       "      <td>A sorghum xylanase inhibitor-like protein with...</td>\n",
       "      <td>A 25-kDa protein, with an N-terminal amino aci...</td>\n",
       "      <td>1</td>\n",
       "      <td>0</td>\n",
       "    </tr>\n",
       "    <tr>\n",
       "      <td>3</td>\n",
       "      <td>TI = (rice)</td>\n",
       "      <td>nan</td>\n",
       "      <td>Molecular identification of yeast species asso...</td>\n",
       "      <td>A B S T R A C T In Manipur state of North-East...</td>\n",
       "      <td>99</td>\n",
       "      <td>0</td>\n",
       "    </tr>\n",
       "    <tr>\n",
       "      <td>4</td>\n",
       "      <td>TI = (corn OR maize  OR Zea mays)</td>\n",
       "      <td>Monsanto Argentina S.A.</td>\n",
       "      <td>Fungal and mycotoxin contamination in Bt maize...</td>\n",
       "      <td>A Bt maize hybrid and its non-transgenic count...</td>\n",
       "      <td>99</td>\n",
       "      <td>0</td>\n",
       "    </tr>\n",
       "  </tbody>\n",
       "</table>\n",
       "</div>"
      ],
      "text/plain": [
       "                                            foodname                       fu  \\\n",
       "0  TI = (sorghum OR milo OR durra OR jowari OR gr...                      nan   \n",
       "1                           TI = (wheat OR Triticum)                      nan   \n",
       "2  TI = (sorghum OR milo OR durra OR jowari OR gr...                      nan   \n",
       "3                                        TI = (rice)                      nan   \n",
       "4                  TI = (corn OR maize  OR Zea mays)  Monsanto Argentina S.A.   \n",
       "\n",
       "                                                  ti  \\\n",
       "0  Pretreatment of Sweet Sorghum Bagasse for Etha...   \n",
       "1  Metabolites of 4-n-nonylphenol in wheat cell s...   \n",
       "2  A sorghum xylanase inhibitor-like protein with...   \n",
       "3  Molecular identification of yeast species asso...   \n",
       "4  Fungal and mycotoxin contamination in Bt maize...   \n",
       "\n",
       "                                                  ab  rating1  fu_source  \n",
       "0  (1) Background: Commercial production of fuel ...       99          0  \n",
       "1  4-Nonylphenol, a metabolite of nonionic surfac...       99          0  \n",
       "2  A 25-kDa protein, with an N-terminal amino aci...        1          0  \n",
       "3  A B S T R A C T In Manipur state of North-East...       99          0  \n",
       "4  A Bt maize hybrid and its non-transgenic count...       99          0  "
      ]
     },
     "execution_count": 7,
     "metadata": {},
     "output_type": "execute_result"
    }
   ],
   "source": [
    "# check the dataframe \n",
    "\n",
    "abst.head(5)"
   ]
  },
  {
   "cell_type": "code",
   "execution_count": 9,
   "metadata": {},
   "outputs": [
    {
     "data": {
      "text/plain": [
       "foodname     TI = (sorghum OR milo OR durra OR jowari OR gr...\n",
       "fu           nannannannanMonsanto Argentina S.A.CRTI [04-00...\n",
       "ti           Pretreatment of Sweet Sorghum Bagasse for Etha...\n",
       "ab           (1) Background: Commercial production of fuel ...\n",
       "rating1                                                 315287\n",
       "fu_source                                                   95\n",
       "dtype: object"
      ]
     },
     "execution_count": 9,
     "metadata": {},
     "output_type": "execute_result"
    }
   ],
   "source": [
    "abst.sum()"
   ]
  },
  {
   "cell_type": "markdown",
   "metadata": {},
   "source": [
    "2. Write a machine learning script to train and classify abstracts. You can assume a binary coding for the rating (positive/not positive) for the ML script. "
   ]
  },
  {
   "cell_type": "code",
   "execution_count": 10,
   "metadata": {},
   "outputs": [
    {
     "data": {
      "text/plain": [
       " 99    3179\n",
       " 1      672\n",
       " 0      261\n",
       "-1      106\n",
       "Name: rating1, dtype: int64"
      ]
     },
     "execution_count": 10,
     "metadata": {},
     "output_type": "execute_result"
    }
   ],
   "source": [
    "# check the values included in rating1 column \n",
    "\n",
    "abst.rating1.value_counts()"
   ]
  },
  {
   "cell_type": "code",
   "execution_count": 11,
   "metadata": {},
   "outputs": [],
   "source": [
    "# change the abstracts' datatype to string  \n",
    "\n",
    "abst['ab'] = abst.ab.astype(str)"
   ]
  },
  {
   "cell_type": "code",
   "execution_count": 12,
   "metadata": {},
   "outputs": [],
   "source": [
    "# prepare the binary coding data for machine learning \n",
    "\n",
    "data = abst[abst['rating1'].isin([-1, 1])]"
   ]
  },
  {
   "cell_type": "code",
   "execution_count": 13,
   "metadata": {},
   "outputs": [
    {
     "data": {
      "text/html": [
       "<div>\n",
       "<style scoped>\n",
       "    .dataframe tbody tr th:only-of-type {\n",
       "        vertical-align: middle;\n",
       "    }\n",
       "\n",
       "    .dataframe tbody tr th {\n",
       "        vertical-align: top;\n",
       "    }\n",
       "\n",
       "    .dataframe thead th {\n",
       "        text-align: right;\n",
       "    }\n",
       "</style>\n",
       "<table border=\"1\" class=\"dataframe\">\n",
       "  <thead>\n",
       "    <tr style=\"text-align: right;\">\n",
       "      <th></th>\n",
       "      <th>foodname</th>\n",
       "      <th>fu</th>\n",
       "      <th>ti</th>\n",
       "      <th>ab</th>\n",
       "      <th>rating1</th>\n",
       "      <th>fu_source</th>\n",
       "    </tr>\n",
       "  </thead>\n",
       "  <tbody>\n",
       "    <tr>\n",
       "      <td>2</td>\n",
       "      <td>TI = (sorghum OR milo OR durra OR jowari OR gr...</td>\n",
       "      <td>nan</td>\n",
       "      <td>A sorghum xylanase inhibitor-like protein with...</td>\n",
       "      <td>A 25-kDa protein, with an N-terminal amino aci...</td>\n",
       "      <td>1</td>\n",
       "      <td>0</td>\n",
       "    </tr>\n",
       "    <tr>\n",
       "      <td>9</td>\n",
       "      <td>TI = (rice)</td>\n",
       "      <td>Genomics for Agricultural Innovation [PMI0004]...</td>\n",
       "      <td>Involvement of ethylene signaling in Azospiril...</td>\n",
       "      <td>A bacterial endophyte Azospirillum sp. B510 in...</td>\n",
       "      <td>1</td>\n",
       "      <td>0</td>\n",
       "    </tr>\n",
       "    <tr>\n",
       "      <td>21</td>\n",
       "      <td>TI = (wheat OR Triticum)</td>\n",
       "      <td>Advanced Food and Materials Network through op...</td>\n",
       "      <td>Diets Enriched in Oat Bran or Wheat Bran Tempo...</td>\n",
       "      <td>A clear understanding of how diet alters gastr...</td>\n",
       "      <td>-1</td>\n",
       "      <td>1</td>\n",
       "    </tr>\n",
       "    <tr>\n",
       "      <td>37</td>\n",
       "      <td>TI = (corn OR maize  OR Zea mays)</td>\n",
       "      <td>Dina Food Industrial Group;  BehAra Food Indus...</td>\n",
       "      <td>Determination of acrylamide level in popular I...</td>\n",
       "      <td>Acrylamide is a chemical found in starchy food...</td>\n",
       "      <td>-1</td>\n",
       "      <td>0</td>\n",
       "    </tr>\n",
       "    <tr>\n",
       "      <td>55</td>\n",
       "      <td>TI = (wheat OR Triticum)</td>\n",
       "      <td>Kuwaiti Flour Mills and Bakeries Company (Kuwa...</td>\n",
       "      <td>Efficacy of wheat-based biscuits fortified wit...</td>\n",
       "      <td>Adverse sensory changes prevent the addition o...</td>\n",
       "      <td>1</td>\n",
       "      <td>0</td>\n",
       "    </tr>\n",
       "    <tr>\n",
       "      <td>...</td>\n",
       "      <td>...</td>\n",
       "      <td>...</td>\n",
       "      <td>...</td>\n",
       "      <td>...</td>\n",
       "      <td>...</td>\n",
       "      <td>...</td>\n",
       "    </tr>\n",
       "    <tr>\n",
       "      <td>4202</td>\n",
       "      <td>TI = (wheat OR Triticum)</td>\n",
       "      <td>HarvestPlus Program;  German Research Foundati...</td>\n",
       "      <td>Biofortification and Localization of Zinc in W...</td>\n",
       "      <td>Zinc (Zn) deficiency associated with low dieta...</td>\n",
       "      <td>1</td>\n",
       "      <td>0</td>\n",
       "    </tr>\n",
       "    <tr>\n",
       "      <td>4208</td>\n",
       "      <td>TI = (wheat OR Triticum)</td>\n",
       "      <td>Primary Industries Innovation Centre;  NANO Ma...</td>\n",
       "      <td>Effect of beta-Glucan on Technological, Sensor...</td>\n",
       "      <td>beta-Glucan is known to have valuable properti...</td>\n",
       "      <td>1</td>\n",
       "      <td>0</td>\n",
       "    </tr>\n",
       "    <tr>\n",
       "      <td>4209</td>\n",
       "      <td>TI = (barley)</td>\n",
       "      <td>UNIK (Food, Fitness &amp; Pharma for Health and Di...</td>\n",
       "      <td>Extracted Oat and Barley beta-Glucans Do Not A...</td>\n",
       "      <td>beta-Glucans are known to exhibit hypocholeste...</td>\n",
       "      <td>1</td>\n",
       "      <td>0</td>\n",
       "    </tr>\n",
       "    <tr>\n",
       "      <td>4212</td>\n",
       "      <td>TI = (rice)</td>\n",
       "      <td>Hansells Food Group, Auckland, New Zealand</td>\n",
       "      <td>Consumption of a plant sterol-based spread der...</td>\n",
       "      <td>fTo establish the effectiveness of a new phyto...</td>\n",
       "      <td>1</td>\n",
       "      <td>0</td>\n",
       "    </tr>\n",
       "    <tr>\n",
       "      <td>4217</td>\n",
       "      <td>TI = (corn OR maize  OR Zea mays)</td>\n",
       "      <td>Indian Council of Medical ResearchIndian Counc...</td>\n",
       "      <td>Chemopreventive Effect of Different Ratios of ...</td>\n",
       "      <td>n-3 Polyunsaturated fatty acids (PUFA) have a ...</td>\n",
       "      <td>1</td>\n",
       "      <td>0</td>\n",
       "    </tr>\n",
       "  </tbody>\n",
       "</table>\n",
       "<p>778 rows × 6 columns</p>\n",
       "</div>"
      ],
      "text/plain": [
       "                                               foodname  \\\n",
       "2     TI = (sorghum OR milo OR durra OR jowari OR gr...   \n",
       "9                                           TI = (rice)   \n",
       "21                             TI = (wheat OR Triticum)   \n",
       "37                    TI = (corn OR maize  OR Zea mays)   \n",
       "55                             TI = (wheat OR Triticum)   \n",
       "...                                                 ...   \n",
       "4202                           TI = (wheat OR Triticum)   \n",
       "4208                           TI = (wheat OR Triticum)   \n",
       "4209                                      TI = (barley)   \n",
       "4212                                        TI = (rice)   \n",
       "4217                  TI = (corn OR maize  OR Zea mays)   \n",
       "\n",
       "                                                     fu  \\\n",
       "2                                                   nan   \n",
       "9     Genomics for Agricultural Innovation [PMI0004]...   \n",
       "21    Advanced Food and Materials Network through op...   \n",
       "37    Dina Food Industrial Group;  BehAra Food Indus...   \n",
       "55    Kuwaiti Flour Mills and Bakeries Company (Kuwa...   \n",
       "...                                                 ...   \n",
       "4202  HarvestPlus Program;  German Research Foundati...   \n",
       "4208  Primary Industries Innovation Centre;  NANO Ma...   \n",
       "4209  UNIK (Food, Fitness & Pharma for Health and Di...   \n",
       "4212         Hansells Food Group, Auckland, New Zealand   \n",
       "4217  Indian Council of Medical ResearchIndian Counc...   \n",
       "\n",
       "                                                     ti  \\\n",
       "2     A sorghum xylanase inhibitor-like protein with...   \n",
       "9     Involvement of ethylene signaling in Azospiril...   \n",
       "21    Diets Enriched in Oat Bran or Wheat Bran Tempo...   \n",
       "37    Determination of acrylamide level in popular I...   \n",
       "55    Efficacy of wheat-based biscuits fortified wit...   \n",
       "...                                                 ...   \n",
       "4202  Biofortification and Localization of Zinc in W...   \n",
       "4208  Effect of beta-Glucan on Technological, Sensor...   \n",
       "4209  Extracted Oat and Barley beta-Glucans Do Not A...   \n",
       "4212  Consumption of a plant sterol-based spread der...   \n",
       "4217  Chemopreventive Effect of Different Ratios of ...   \n",
       "\n",
       "                                                     ab  rating1  fu_source  \n",
       "2     A 25-kDa protein, with an N-terminal amino aci...        1          0  \n",
       "9     A bacterial endophyte Azospirillum sp. B510 in...        1          0  \n",
       "21    A clear understanding of how diet alters gastr...       -1          1  \n",
       "37    Acrylamide is a chemical found in starchy food...       -1          0  \n",
       "55    Adverse sensory changes prevent the addition o...        1          0  \n",
       "...                                                 ...      ...        ...  \n",
       "4202  Zinc (Zn) deficiency associated with low dieta...        1          0  \n",
       "4208  beta-Glucan is known to have valuable properti...        1          0  \n",
       "4209  beta-Glucans are known to exhibit hypocholeste...        1          0  \n",
       "4212  fTo establish the effectiveness of a new phyto...        1          0  \n",
       "4217  n-3 Polyunsaturated fatty acids (PUFA) have a ...        1          0  \n",
       "\n",
       "[778 rows x 6 columns]"
      ]
     },
     "execution_count": 13,
     "metadata": {},
     "output_type": "execute_result"
    }
   ],
   "source": [
    "# check the data \n",
    "\n",
    "data"
   ]
  },
  {
   "cell_type": "code",
   "execution_count": 14,
   "metadata": {},
   "outputs": [],
   "source": [
    "# split the dataset into training and validation datasets \n",
    "\n",
    "train_x, valid_x, train_y, valid_y = model_selection.train_test_split(data['ab'], data['rating1'])"
   ]
  },
  {
   "cell_type": "code",
   "execution_count": 16,
   "metadata": {},
   "outputs": [],
   "source": [
    "# create a count vectorizer object \n",
    "\n",
    "count_vect = CountVectorizer(analyzer='word', token_pattern=r'\\w{1,}')\n",
    "count_vect.fit(data['ab'])\n",
    "\n",
    "# transform the training and validation data using count vectorizer object\n",
    "\n",
    "xtrain_count =  count_vect.transform(train_x)\n",
    "xvalid_count =  count_vect.transform(valid_x)"
   ]
  },
  {
   "cell_type": "code",
   "execution_count": 17,
   "metadata": {},
   "outputs": [],
   "source": [
    "# word level tf-idf\n",
    "\n",
    "tfidf_vect = TfidfVectorizer(analyzer='word', token_pattern=r'\\w{1,}', max_features=5000)\n",
    "tfidf_vect.fit(data['ab'])\n",
    "xtrain_tfidf =  tfidf_vect.transform(train_x)\n",
    "xvalid_tfidf =  tfidf_vect.transform(valid_x)\n",
    "\n",
    "# ngram level tf-idf \n",
    "\n",
    "tfidf_vect_ngram = TfidfVectorizer(analyzer='word', token_pattern=r'\\w{1,}', ngram_range=(2,3), max_features=5000)\n",
    "tfidf_vect_ngram.fit(data['ab'])\n",
    "xtrain_tfidf_ngram =  tfidf_vect_ngram.transform(train_x)\n",
    "xvalid_tfidf_ngram =  tfidf_vect_ngram.transform(valid_x)\n",
    "\n",
    "# characters level tf-idf\n",
    "\n",
    "tfidf_vect_ngram_chars = TfidfVectorizer(analyzer='char', token_pattern=r'\\w{1,}', ngram_range=(2,3), max_features=5000)\n",
    "tfidf_vect_ngram_chars.fit(data['ab'])\n",
    "xtrain_tfidf_ngram_chars =  tfidf_vect_ngram_chars.transform(train_x) \n",
    "xvalid_tfidf_ngram_chars =  tfidf_vect_ngram_chars.transform(valid_x) "
   ]
  },
  {
   "cell_type": "markdown",
   "metadata": {},
   "source": [
    "3. Given your script, provide validation statistics, i.e. provide classifications of each abstract as positive or not from the script and compare against the actual data."
   ]
  },
  {
   "cell_type": "code",
   "execution_count": 18,
   "metadata": {},
   "outputs": [],
   "source": [
    "def train_model(classifier, feature_vector_train, label, feature_vector_valid):\n",
    "    # fit the training dataset on the classifier\n",
    "    classifier.fit(feature_vector_train, label)\n",
    "    \n",
    "    # predict the labels on validation dataset\n",
    "    predictions = classifier.predict(feature_vector_valid)\n",
    "    \n",
    "    return metrics.accuracy_score(predictions, valid_y)"
   ]
  },
  {
   "cell_type": "code",
   "execution_count": 28,
   "metadata": {},
   "outputs": [
    {
     "name": "stdout",
     "output_type": "stream",
     "text": [
      "The accuracy rate of NB, WordLevel TF-IDF is 0.8871794871794871\n",
      "The accuracy rate of NB, N-Gram Vectors is 0.9025641025641026\n",
      "The accuracy rate of NB, CharLevel TF-IDF is 0.8871794871794871\n"
     ]
    }
   ],
   "source": [
    "# Naive Bayes on Word Level TF IDF Vectors\n",
    "accuracy = train_model(naive_bayes.MultinomialNB(), xtrain_tfidf, train_y, xvalid_tfidf)\n",
    "print('The accuracy rate of NB, WordLevel TF-IDF is', accuracy)\n",
    "\n",
    "# Naive Bayes on Ngram Level TF IDF Vectors\n",
    "accuracy = train_model(naive_bayes.MultinomialNB(), xtrain_tfidf_ngram, train_y, xvalid_tfidf_ngram)\n",
    "print('The accuracy rate of NB, N-Gram Vectors is', accuracy)\n",
    "\n",
    "# Naive Bayes on Character Level TF IDF Vectors\n",
    "accuracy = train_model(naive_bayes.MultinomialNB(), xtrain_tfidf_ngram_chars, train_y, xvalid_tfidf_ngram_chars)\n",
    "print('The accuracy rate of NB, CharLevel TF-IDF is', accuracy)"
   ]
  },
  {
   "cell_type": "code",
   "execution_count": 27,
   "metadata": {},
   "outputs": [
    {
     "name": "stdout",
     "output_type": "stream",
     "text": [
      "The accuracy rate of LR, WordLevel TF-IDF is 0.9333333333333333\n",
      "The accuracy rate of LR, N-Gram Vectors is 0.8923076923076924\n",
      "The accuracy rate of LR, CharLevel TF-IDF is 0.8923076923076924\n"
     ]
    },
    {
     "name": "stderr",
     "output_type": "stream",
     "text": [
      "/opt/anaconda3/lib/python3.7/site-packages/sklearn/linear_model/logistic.py:432: FutureWarning: Default solver will be changed to 'lbfgs' in 0.22. Specify a solver to silence this warning.\n",
      "  FutureWarning)\n"
     ]
    }
   ],
   "source": [
    "# Linear Classifier on Count Vectors\n",
    "accuracy = train_model(linear_model.LogisticRegression(), xtrain_count, train_y, xvalid_count)\n",
    "print('The accuracy rate of LR, WordLevel TF-IDF is', accuracy)\n",
    "\n",
    "# Linear Classifier on Ngram Level TF IDF Vectors\n",
    "accuracy = train_model(linear_model.LogisticRegression(), xtrain_tfidf_ngram, train_y, xvalid_tfidf_ngram)\n",
    "print('The accuracy rate of LR, N-Gram Vectors is', accuracy)\n",
    "\n",
    "# Linear Classifier on Word Level TF IDF Vectors\n",
    "accuracy = train_model(linear_model.LogisticRegression(), xtrain_tfidf, train_y, xvalid_tfidf)\n",
    "print('The accuracy rate of LR, CharLevel TF-IDF is', accuracy)"
   ]
  },
  {
   "cell_type": "code",
   "execution_count": 29,
   "metadata": {
    "scrolled": true
   },
   "outputs": [
    {
     "name": "stderr",
     "output_type": "stream",
     "text": [
      "/opt/anaconda3/lib/python3.7/site-packages/sklearn/svm/base.py:193: FutureWarning: The default value of gamma will change from 'auto' to 'scale' in version 0.22 to account better for unscaled features. Set gamma explicitly to 'auto' or 'scale' to avoid this warning.\n",
      "  \"avoid this warning.\", FutureWarning)\n"
     ]
    },
    {
     "name": "stdout",
     "output_type": "stream",
     "text": [
      "The accuracy rate of SVM, WordLevel TF-IDF is 0.8871794871794871\n",
      "The accuracy rate of SVM, WordLevel TF-IDF is 0.8871794871794871\n",
      "The accuracy rate of SVM, WordLevel TF-IDF is 0.8871794871794871\n"
     ]
    },
    {
     "name": "stderr",
     "output_type": "stream",
     "text": [
      "/opt/anaconda3/lib/python3.7/site-packages/sklearn/svm/base.py:193: FutureWarning: The default value of gamma will change from 'auto' to 'scale' in version 0.22 to account better for unscaled features. Set gamma explicitly to 'auto' or 'scale' to avoid this warning.\n",
      "  \"avoid this warning.\", FutureWarning)\n",
      "/opt/anaconda3/lib/python3.7/site-packages/sklearn/svm/base.py:193: FutureWarning: The default value of gamma will change from 'auto' to 'scale' in version 0.22 to account better for unscaled features. Set gamma explicitly to 'auto' or 'scale' to avoid this warning.\n",
      "  \"avoid this warning.\", FutureWarning)\n"
     ]
    }
   ],
   "source": [
    "# SVM on Ngram Level TF IDF Vectors\n",
    "accuracy = train_model(svm.SVC(), xtrain_count, train_y, xvalid_count)\n",
    "print('The accuracy rate of SVM, WordLevel TF-IDF is', accuracy)\n",
    "\n",
    "# SVM on Ngram Level TF IDF Vectors\n",
    "accuracy = train_model(svm.SVC(), xtrain_tfidf_ngram, train_y, xvalid_tfidf_ngram)\n",
    "print('The accuracy rate of SVM, WordLevel TF-IDF is', accuracy)\n",
    "\n",
    "# SVM on Ngram Level TF IDF Vectors\n",
    "accuracy = train_model(svm.SVC(), xtrain_tfidf, train_y, xvalid_tfidf)\n",
    "print('The accuracy rate of SVM, WordLevel TF-IDF is', accuracy)"
   ]
  },
  {
   "cell_type": "markdown",
   "metadata": {},
   "source": [
    "4. Comment on how you would improve the ML script given more time and computational resources."
   ]
  },
  {
   "cell_type": "markdown",
   "metadata": {},
   "source": [
    "As we can see from data preprocessing part, I use 3 different tf-idf methods (word level, ngram, and character level) after converting the collection of abstraction text to a matrix of token counts. In terms of improving the ML performance, I think we could do it in a few ways. Firstly, here we only have 'abstract' as explantory variable, if we could include more related features, we will presumably increase the ML model performace. Besides, here I include Naive Bayes, Linear, and SVM as ML models, there are other boosting models like XGBoost or LightGBM could potenially help to improve the overall performance as well. But we should definitely add more features as possible in order to achieve better results. "
   ]
  },
  {
   "cell_type": "code",
   "execution_count": null,
   "metadata": {},
   "outputs": [],
   "source": []
  }
 ],
 "metadata": {
  "kernelspec": {
   "display_name": "Python 3",
   "language": "python",
   "name": "python3"
  },
  "language_info": {
   "codemirror_mode": {
    "name": "ipython",
    "version": 3
   },
   "file_extension": ".py",
   "mimetype": "text/x-python",
   "name": "python",
   "nbconvert_exporter": "python",
   "pygments_lexer": "ipython3",
   "version": "3.7.4"
  }
 },
 "nbformat": 4,
 "nbformat_minor": 2
}
